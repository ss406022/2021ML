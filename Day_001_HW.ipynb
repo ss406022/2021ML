#!/usr/bin/env python
# coding: utf-8

# ## 練習時間
# #### 請寫一個函式用來計算 Mean Square Error
# $ MSE = \frac{1}{n}\sum_{i=1}^{n}{(Y_i - \hat{Y}_i)^2} $
# 
# ### Hint: [如何取平方](https://googoodesign.gitbooks.io/-ezpython/unit-1.html)

# # [作業目標]
# - 仿造範例的MAE函數, 自己寫一個MSE函數(參考上面公式)

# # [作業重點]
# - 注意程式的縮排
# - 是否能將數學公式, 轉換為 Python 的函式組合? (In[2], Out[2])

# In[28]:


def mean_absolute_error(y, yp):
   """
   計算 MAE
   Args:
       - y: 實際值
       - yp: 預測值
   Return:
       - mae: MAE
   """
   mae = MAE = sum(abs(y - yp)) / len(y)
   return mae
MAE = mean_absolute_error(y,y_hat)
print("The mean absolute error is %.3f" %(MAE))
print(type(MAE))

# 定義 mean_squared_error 這個函數, 計算並傳回 MSE
def mean_squared_error(y, yp):
   """
   請完成這個 Function 後往下執行
   """
   mse = MSE = pow(mean_absolute_error(y,y_hat),2)
   return mse

MSE = mean_squared_error(y, y_hat)
print(MSE)


# In[1]:


# 載入基礎套件與代稱
import numpy as np
import matplotlib.pyplot as plt


# In[ ]:


# 與範例相同, 不另外解說
w = 3
b = 0.5
x_lin = np.linspace(0, 100, 101)
y = (x_lin + np.random.randn(101) * 5) * w + b

plt.plot(x_lin, y, 'b.', label = 'data points')
plt.title("Assume we have data points")
plt.legend(loc = 2)
plt.show()


# In[29]:


# 與範例相同, 不另外解說
y_hat = x_lin * w + b
plt.plot(x_lin, y, 'b.', label = 'data')
plt.plot(x_lin, y_hat, 'r-', label = 'prediction')
plt.title("Assume we have data points (And the prediction)")
plt.legend(loc = 2)
plt.show()


# In[30]:


# 執行 Function, 確認有沒有正常執行
MSE = mean_squared_error(y, y_hat)
MAE = mean_absolute_error(y, y_hat)
print("The Mean squared error is %.3f" % (MSE))
print("The Mean absolute error is %.3f" % (MAE))


# In[ ]:


作業2：申論題目可直接將答案回覆在HW檔案裡面，Jupyter notebook可直接編輯文字。
請上 Kaggle, 在 Competitions 或 Dataset 中找一組競賽或資料並寫下：
1. 你選的這組資料為何重要
2. 資料從何而來 (tips: 譬如提供者是誰、以什麼方式蒐集)
3. 蒐集而來的資料型態為何
4. 這組資料想解決的問題如何評估


# In[ ]:


https://www.kaggle.com/radmirzosimov/telecom-users-dataset
    
Telecom users dataset
1.找出資料集裡的不忠誠客戶，採取商業政策留住客戶。
2.提供者：Radmir Zosimov
3.結構化資料：以csv表格呈現
4.迴歸模型


# In[ ]:


作業3：申論題目可直接將答案回覆在HW檔案裡面，Jupyter notebook可直接編輯文字。
想像你經營一個自由載客車隊，你希望能透過數據分析以提升業績，請你思考並描述你如何規劃整體的分析/解決方案：
1. 核心問題為何 (tips：如何定義 「提升業績 & 你的假設」)
2. 資料從何而來 (tips：哪些資料可能會對你想問的問題產生影響 & 資料如何蒐集)
3. 蒐集而來的資料型態為何
4. 你要回答的問題，其如何評估 (tips：你的假設如何驗證)


# In[ ]:


1.提升業績的定義：平均每日的載客量增加
假設載客量與叫車方式相關，在怎樣的平台下廣告會讓平均載客量提升
2.格式化表單（電話叫車），app紀錄（app叫車）
3.結構化資料：表格（乘客性別/幾點搭車/上車地點/叫車方式（app或電話）/行駛里程數/是否為舊客戶)
4.
不同時間點客群樣貌如何>預測哪個時間點最多乘客 Accuracy/ROC
不同客群的叫車方式>預測不同客群會使用哪種叫車方式 ROC
舊客戶對同一位司機的顧客忠誠度

